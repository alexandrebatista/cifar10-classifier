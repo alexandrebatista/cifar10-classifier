{
 "cells": [
  {
   "cell_type": "code",
   "execution_count": 21,
   "metadata": {},
   "outputs": [],
   "source": [
    "import cv2\n",
    "import numpy as np\n",
    "import matplotlib.pyplot as plt\n",
    "from skimage.filters import (threshold_otsu, threshold_niblack, threshold_sauvola)\n",
    "from skimage import filters\n",
    "import wisardpkg as wp\n",
    "\n",
    "from load_cifar10 import load_cifar_10_data\n",
    "from tools import evaluation, flatten, print_images"
   ]
  },
  {
   "cell_type": "code",
   "execution_count": 22,
   "metadata": {},
   "outputs": [],
   "source": [
    "def apply_sauvola(dataset, window_size):\n",
    "    threshold_sauvola_array = [threshold_sauvola(image, window_size=window_size) for image in dataset]\n",
    "    filtered_sauvola = [np.where(train_data[image_index] > threshold_sauvola_array[image_index], 255,0) for image_index in range(0, len(dataset))]\n",
    "    return filtered_sauvola"
   ]
  },
  {
   "cell_type": "markdown",
   "metadata": {},
   "source": [
    "Importing dataset:"
   ]
  },
  {
   "cell_type": "code",
   "execution_count": 23,
   "metadata": {},
   "outputs": [],
   "source": [
    "cifar_10_dir = 'cifar-10-batches-py'\n",
    "\n",
    "train_data, train_labels, test_data, test_labels, label_names = load_cifar_10_data(cifar_10_dir)"
   ]
  },
  {
   "cell_type": "markdown",
   "metadata": {},
   "source": [
    "Converting labels from int to string:"
   ]
  },
  {
   "cell_type": "code",
   "execution_count": 24,
   "metadata": {},
   "outputs": [],
   "source": [
    "train_labels = [str(label) for label in train_labels]\n",
    "test_labels = [str(label) for label in test_labels]"
   ]
  },
  {
   "cell_type": "code",
   "execution_count": 25,
   "metadata": {},
   "outputs": [],
   "source": [
    "window_size = 9\n",
    "binary_sauvola_train = apply_sauvola(train_data, window_size)\n",
    "binary_sauvola_test = apply_sauvola(test_data, window_size)"
   ]
  },
  {
   "cell_type": "code",
   "execution_count": 28,
   "metadata": {},
   "outputs": [],
   "source": [
    "X_train = [flatten(sample) for sample in binary_sauvola_train]\n",
    "X_test = [flatten(sample) for sample in binary_sauvola_test]"
   ]
  },
  {
   "cell_type": "code",
   "execution_count": 29,
   "metadata": {},
   "outputs": [
    {
     "ename": "RuntimeError",
     "evalue": "The input data has a value bigger than base of addresing!",
     "output_type": "error",
     "traceback": [
      "\u001b[0;31m---------------------------------------------------------------------------\u001b[0m",
      "\u001b[0;31mRuntimeError\u001b[0m                              Traceback (most recent call last)",
      "\u001b[0;32m<ipython-input-29-7a2c746a835f>\u001b[0m in \u001b[0;36m<module>\u001b[0;34m\u001b[0m\n\u001b[1;32m      4\u001b[0m \u001b[0mmodel\u001b[0m \u001b[0;34m=\u001b[0m \u001b[0mwp\u001b[0m\u001b[0;34m.\u001b[0m\u001b[0mWisard\u001b[0m\u001b[0;34m(\u001b[0m\u001b[0maddressSize\u001b[0m\u001b[0;34m,\u001b[0m \u001b[0mignoreZero\u001b[0m\u001b[0;34m=\u001b[0m\u001b[0mignoreZero\u001b[0m\u001b[0;34m,\u001b[0m \u001b[0mverbose\u001b[0m\u001b[0;34m=\u001b[0m\u001b[0;32mTrue\u001b[0m\u001b[0;34m)\u001b[0m\u001b[0;34m\u001b[0m\u001b[0;34m\u001b[0m\u001b[0m\n\u001b[1;32m      5\u001b[0m \u001b[0;34m\u001b[0m\u001b[0m\n\u001b[0;32m----> 6\u001b[0;31m \u001b[0mmodel\u001b[0m\u001b[0;34m.\u001b[0m\u001b[0mtrain\u001b[0m\u001b[0;34m(\u001b[0m\u001b[0mX_train\u001b[0m\u001b[0;34m,\u001b[0m \u001b[0mtrain_labels\u001b[0m\u001b[0;34m)\u001b[0m\u001b[0;34m\u001b[0m\u001b[0;34m\u001b[0m\u001b[0m\n\u001b[0m\u001b[1;32m      7\u001b[0m \u001b[0;34m\u001b[0m\u001b[0m\n\u001b[1;32m      8\u001b[0m \u001b[0mout\u001b[0m \u001b[0;34m=\u001b[0m \u001b[0mmodel\u001b[0m\u001b[0;34m.\u001b[0m\u001b[0mclassify\u001b[0m\u001b[0;34m(\u001b[0m\u001b[0mX_test\u001b[0m\u001b[0;34m)\u001b[0m\u001b[0;34m\u001b[0m\u001b[0;34m\u001b[0m\u001b[0m\n",
      "\u001b[0;31mRuntimeError\u001b[0m: The input data has a value bigger than base of addresing!"
     ]
    }
   ],
   "source": [
    "addressSize = 15\n",
    "ignoreZero = False\n",
    "\n",
    "model = wp.Wisard(addressSize, ignoreZero=ignoreZero, verbose=True)\n",
    "\n",
    "model.train(X_train, train_labels)\n",
    "\n",
    "out = model.classify(X_test)\n",
    "\n",
    "# ----------------------------------------------------------------------------------------------------------------------\n",
    "# Evaluation\n",
    "evaluation(out, test_labels)"
   ]
  },
  {
   "cell_type": "code",
   "execution_count": null,
   "metadata": {},
   "outputs": [],
   "source": []
  }
 ],
 "metadata": {
  "kernelspec": {
   "display_name": "local-venv",
   "language": "python",
   "name": "local-venv"
  },
  "language_info": {
   "codemirror_mode": {
    "name": "ipython",
    "version": 3
   },
   "file_extension": ".py",
   "mimetype": "text/x-python",
   "name": "python",
   "nbconvert_exporter": "python",
   "pygments_lexer": "ipython3",
   "version": "3.6.9"
  }
 },
 "nbformat": 4,
 "nbformat_minor": 2
}
