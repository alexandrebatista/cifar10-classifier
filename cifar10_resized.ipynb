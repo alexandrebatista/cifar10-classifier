{
 "cells": [
  {
   "cell_type": "code",
   "execution_count": 1,
   "metadata": {},
   "outputs": [
    {
     "ename": "ImportError",
     "evalue": "No module named cv2",
     "output_type": "error",
     "traceback": [
      "\u001b[0;31m---------------------------------------------------------------------------\u001b[0m",
      "\u001b[0;31mImportError\u001b[0m                               Traceback (most recent call last)",
      "\u001b[0;32m<ipython-input-1-510d814c9bcd>\u001b[0m in \u001b[0;36m<module>\u001b[0;34m()\u001b[0m\n\u001b[1;32m      1\u001b[0m \u001b[0;32mimport\u001b[0m \u001b[0mnumpy\u001b[0m \u001b[0;32mas\u001b[0m \u001b[0mnp\u001b[0m\u001b[0;34m\u001b[0m\u001b[0m\n\u001b[0;32m----> 2\u001b[0;31m \u001b[0;32mimport\u001b[0m \u001b[0mcv2\u001b[0m\u001b[0;34m\u001b[0m\u001b[0m\n\u001b[0m\u001b[1;32m      3\u001b[0m \u001b[0;34m\u001b[0m\u001b[0m\n\u001b[1;32m      4\u001b[0m \u001b[0;32mimport\u001b[0m \u001b[0mwisardpkg\u001b[0m \u001b[0;32mas\u001b[0m \u001b[0mwp\u001b[0m\u001b[0;34m\u001b[0m\u001b[0m\n\u001b[1;32m      5\u001b[0m \u001b[0;34m\u001b[0m\u001b[0m\n",
      "\u001b[0;31mImportError\u001b[0m: No module named cv2"
     ]
    }
   ],
   "source": [
    "import numpy as np\n",
    "import cv2\n",
    "\n",
    "import wisardpkg as wp\n",
    "\n",
    "from load_cifar10 import load_cifar_10_data\n",
    "\n",
    "from tools import evaluation, filter_data, flatten, print_images\n",
    "\n",
    "cifar_10_dir = 'cifar-10-batches-py'\n",
    "\n",
    "train_data, train_labels, test_data, test_labels, label_names = load_cifar_10_data(cifar_10_dir)\n",
    "\n",
    "g_blurred = cv2.GaussianBlur(train_data[0], (5, 5), 0)\n",
    "\n",
    "reduced_image = cv2.resize(g_blurred, (16, 16))\n",
    "\n",
    "print_images([train_data[0]])\n",
    "print_images([g_blurred])\n",
    "print_images([reduced_image])\n",
    "\n",
    "edges = cv2.Canny(reduced_image, 150, 200)\n",
    "print_images([edges], True)"
   ]
  },
  {
   "cell_type": "code",
   "execution_count": 2,
   "metadata": {},
   "outputs": [
    {
     "name": "stdout",
     "output_type": "stream",
     "text": [
      "Acc: 0.4118\n"
     ]
    }
   ],
   "source": [
    "train_data = [cv2.GaussianBlur(image, (5, 5), 0) for image in train_data]\n",
    "test_data = [cv2.GaussianBlur(image, (5, 5), 0) for image in test_data]\n",
    "\n",
    "#train_data = [cv2.resize(image, (25, 25)) for image in train_data]\n",
    "#test_data = [cv2.resize(image, (25, 25)) for image in test_data]\n",
    "\n",
    "#train_data = [cv2.Canny(image, 150, 200) for image in train_data]\n",
    "#test_data = [cv2.Canny(image, 150, 200) for image in test_data] \n",
    "\n",
    "train_labels = [str(label) for label in train_labels]\n",
    "test_labels = [str(label) for label in test_labels]\n",
    "\n",
    "X_train = [flatten(sample) for sample in train_data]\n",
    "X_test = [flatten(sample) for sample in test_data]\n",
    "\n",
    "threshold = 115\n",
    "X_train = np.where(np.array(X_train) > threshold, 1, 0)\n",
    "X_test = np.where(np.array(X_test) > threshold, 1, 0)\n",
    "\n",
    "addressSize = 15\n",
    "ignoreZero = False\n",
    "\n",
    "model = wp.Wisard(addressSize, ignoreZero=ignoreZero, verbose=True)\n",
    "\n",
    "model.train(X_train, train_labels)\n",
    "\n",
    "out = model.classify(X_test)\n",
    "\n",
    "# ----------------------------------------------------------------------------------------------------------------------\n",
    "# Evaluation\n",
    "evaluation(out, test_labels)"
   ]
  },
  {
   "cell_type": "code",
   "execution_count": null,
   "metadata": {},
   "outputs": [],
   "source": []
  }
 ],
 "metadata": {
  "kernelspec": {
   "display_name": "Python 2",
   "language": "python",
   "name": "python2"
  },
  "language_info": {
   "codemirror_mode": {
    "name": "ipython",
    "version": 2
   },
   "file_extension": ".py",
   "mimetype": "text/x-python",
   "name": "python",
   "nbconvert_exporter": "python",
   "pygments_lexer": "ipython2",
   "version": "2.7.17"
  }
 },
 "nbformat": 4,
 "nbformat_minor": 2
}
